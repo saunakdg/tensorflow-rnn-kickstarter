{
 "cells": [
  {
   "cell_type": "code",
   "execution_count": 1,
   "metadata": {
    "collapsed": false,
    "deletable": true,
    "editable": true
   },
   "outputs": [
    {
     "name": "stdout",
     "output_type": "stream",
     "text": [
      "Extracting /tmp/data/train-images-idx3-ubyte.gz\n",
      "Extracting /tmp/data/train-labels-idx1-ubyte.gz\n",
      "Extracting /tmp/data/t10k-images-idx3-ubyte.gz\n",
      "Extracting /tmp/data/t10k-labels-idx1-ubyte.gz\n"
     ]
    }
   ],
   "source": [
    "import tensorflow as tf\n",
    "from tensorflow.examples.tutorials.mnist import input_data\n",
    "from tensorflow.python.ops import rnn, rnn_cell\n",
    "mnist = input_data.read_data_sets(\"/tmp/data/\", one_hot = True)\n",
    "\n",
    "# Parameters\n",
    "learning_rate = 0.001\n",
    "training_iteration_limit = 3\n",
    "batch_size = 256\n",
    "display_step = 10\n",
    "\n",
    "# Network Parameters\n",
    "total_series_length = 50000\n",
    "truncated_backprop_length = 15\n",
    "num_classes = 10\n",
    "chunk_size = 28\n",
    "n_chunks = 28\n",
    "rnn_size = 128\n",
    "\n",
    "# Define weights\n",
    "weights = {\n",
    "    'out': tf.Variable(tf.random_normal([rnn_size,num_classes]))\n",
    "}\n",
    "biases = {\n",
    "    'out': tf.Variable(tf.random_normal([num_classes]))\n",
    "}\n",
    "\n",
    "x = tf.placeholder('float', [None, n_chunks,chunk_size])\n",
    "y = tf.placeholder('float')"
   ]
  },
  {
   "cell_type": "code",
   "execution_count": 2,
   "metadata": {
    "collapsed": true,
    "deletable": true,
    "editable": true
   },
   "outputs": [],
   "source": [
    "def core_recurrent_neural_net(x):\n",
    "\n",
    "    # Prepare data shape to match `rnn` function requirements\n",
    "    # Current data input shape: (batch_size, chunk_size, n_chunks)\n",
    "\n",
    "    # Unstack to get a list of 'n_steps' tensors of shape (batch_size, n_input)    \n",
    "    x = tf.unstack(x, n_chunks, 1)\n",
    "    \n",
    "    # Define a lstm cell with tensorflow\n",
    "    lstm_cell = rnn_cell.BasicLSTMCell(rnn_size, forget_bias=1.0)\n",
    "    \n",
    "    # Get lstm cell output\n",
    "    outputs, states = rnn.rnn(lstm_cell, x, dtype=tf.float32)\n",
    "\n",
    "     # Linear activation, using rnn inner loop last output\n",
    "    output = tf.matmul(outputs[-1],weights['out']) + biases['out']\n",
    "\n",
    "    return output"
   ]
  },
  {
   "cell_type": "code",
   "execution_count": 3,
   "metadata": {
    "collapsed": false,
    "deletable": true,
    "editable": true
   },
   "outputs": [
    {
     "name": "stdout",
     "output_type": "stream",
     "text": [
      "WARNING:tensorflow:From <ipython-input-3-6d29b7bab5ab>:10 in train_neural_network.: initialize_all_variables (from tensorflow.python.ops.variables) is deprecated and will be removed after 2017-03-02.\n",
      "Instructions for updating:\n",
      "Use `tf.global_variables_initializer` instead.\n",
      "train_loop 0 completed out of 3 loss: 136.217165358\n",
      "train_loop 1 completed out of 3 loss: 35.722185269\n",
      "train_loop 2 completed out of 3 loss: 24.1941645443\n",
      "Accuracy: 0.9717\n"
     ]
    }
   ],
   "source": [
    "def train_neural_network(x):\n",
    "    prediction = core_recurrent_neural_net(x)\n",
    "    \n",
    "    # Define loss and optimizer\n",
    "    cost = tf.reduce_mean( tf.nn.softmax_cross_entropy_with_logits(prediction,y) )\n",
    "    optimizer = tf.train.AdamOptimizer(learning_rate=learning_rate).minimize(cost)\n",
    "    \n",
    "   # Launch the graph \n",
    "    with tf.Session() as sess:\n",
    "        sess.run(tf.initialize_all_variables())\n",
    "\n",
    "        # Keep training until reach max limit of iteration\n",
    "        for train_loop in range(training_iteration_limit):\n",
    "            train_loop_loss = 0\n",
    "            for _ in range(int(mnist.train.num_examples/batch_size)):\n",
    "                train_loop_x, train_loop_y = mnist.train.next_batch(batch_size)\n",
    "                # Reshape data to get 28 seq of 28 elements\n",
    "                train_loop_x = train_loop_x.reshape((batch_size,n_chunks,chunk_size))\n",
    "                # Run optimization op (backprop)\n",
    "                _, c = sess.run([optimizer, cost], feed_dict={x: train_loop_x, y: train_loop_y})\n",
    "                train_loop_loss += c\n",
    "            \n",
    "            print('train_loop', train_loop, 'completed out of',training_iteration_limit,'loss:',train_loop_loss)\n",
    "\n",
    "        correct = tf.equal(tf.argmax(prediction, 1), tf.argmax(y, 1))\n",
    "        \n",
    "        # Evaluate model\n",
    "        accuracy = tf.reduce_mean(tf.cast(correct, 'float'))\n",
    "        print('Accuracy:',accuracy.eval({x:mnist.test.images.reshape((-1, n_chunks, chunk_size)), y:mnist.test.labels}))\n",
    "        \n",
    "        \n",
    "train_neural_network(x)"
   ]
  }
 ],
 "metadata": {
  "kernelspec": {
   "display_name": "Python 3",
   "language": "python",
   "name": "python3"
  },
  "language_info": {
   "codemirror_mode": {
    "name": "ipython",
    "version": 3
   },
   "file_extension": ".py",
   "mimetype": "text/x-python",
   "name": "python",
   "nbconvert_exporter": "python",
   "pygments_lexer": "ipython3",
   "version": "3.5.2"
  }
 },
 "nbformat": 4,
 "nbformat_minor": 2
}
